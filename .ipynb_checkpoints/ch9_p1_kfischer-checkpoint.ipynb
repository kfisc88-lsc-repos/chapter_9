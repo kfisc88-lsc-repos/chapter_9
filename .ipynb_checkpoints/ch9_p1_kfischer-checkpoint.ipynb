{
 "cells": [
  {
   "cell_type": "code",
   "execution_count": null,
   "metadata": {},
   "outputs": [],
   "source": [
    "\"\"\"\n",
    "File: ch9_p1_kfischer.py\n",
    "Resources to manage a student's name and test scores.\n",
    "\n",
    "EDIT: \n",
    "Author: Kelley Fischer\n",
    "Date:   11/16/19\n",
    "Added comparison operators for student name's.\n",
    "\"\"\""
   ]
  },
  {
   "cell_type": "code",
   "execution_count": 37,
   "metadata": {},
   "outputs": [],
   "source": [
    "class Student(object):\n",
    "    \"\"\"Represents a student.\"\"\"\n",
    "\n",
    "    def __init__(self, name, number):\n",
    "        \"\"\"All scores are initially 0.\"\"\"\n",
    "        self.name = name\n",
    "        self.scores = []\n",
    "        for count in range(number):\n",
    "            self.scores.append(0)\n",
    "\n",
    "    def getName(self):\n",
    "        \"\"\"Returns the student's name.\"\"\"\n",
    "        return self.name\n",
    "  \n",
    "    def setScore(self, i, score):\n",
    "        \"\"\"Resets the ith score, counting from 1.\"\"\"\n",
    "        self.scores[i - 1] = score\n",
    "\n",
    "    def getScore(self, i):\n",
    "        \"\"\"Returns the ith score, counting from 1.\"\"\"\n",
    "        return self.scores[i - 1]\n",
    "   \n",
    "    def getAverage(self):\n",
    "        \"\"\"Returns the average score.\"\"\"\n",
    "        return sum(self.scores) / len(self._scores)\n",
    "    \n",
    "    def getHighScore(self):\n",
    "        \"\"\"Returns the highest score.\"\"\"\n",
    "        return max(self.scores)\n",
    " \n",
    "    def __str__(self):\n",
    "        \"\"\"Returns the string representation of the student.\"\"\"\n",
    "        return \"Name: \" + self.name  + \"\\nScores: \" + \\\n",
    "               \" \".join(map(str, self.scores))\n",
    "    \n",
    "    def __eq__(self, other):\n",
    "        \"\"\"Compares two students using ==.\"\"\" \n",
    "        return self.name == other.name\n",
    "    \n",
    "    def __lt__(self, other):\n",
    "        \"\"\"Compares two students using <.\"\"\"\n",
    "        return self.name < other.name\n",
    "    \n",
    "    def __ge__(self, other):\n",
    "        \"\"\"Compares two students using >=.\"\"\"\n",
    "        return self.name >= other.name"
   ]
  },
  {
   "cell_type": "code",
   "execution_count": 68,
   "metadata": {},
   "outputs": [],
   "source": [
    "def main():\n",
    "    \"\"\"A simple test.\"\"\"\n",
    "    student1 = Student('Ken', 5)\n",
    "    print(f'{student1} \\n')\n",
    "    \n",
    "    student2 = Student('Laura', 5)\n",
    "    print(f'{student2} \\n')\n",
    "    \n",
    "    student3 = Student('Ken', 5)\n",
    "    print(f'{student3} \\n')\n",
    "    \n",
    "    # Test each comparison operater for \n",
    "    print(f'{student1.name}\\'s name is less than {student2.name}\\'s name: {student1 < student2}')\n",
    "    print(f'{student2.name}\\'s name is less than {student1.name}\\'s name: {student2 < student1}')\n",
    "    print(f'{student1.name}\\'s name is greater than or equal to {student2.name}\\'s name: {student1 >= student2}')\n",
    "    print(f'{student2.name}\\'s name is greater than or equal to {student1.name}\\'s name: {student2 >= student1}')\n",
    "    print(f'{student1.name}\\'s name is greater than or equal to {student1.name}\\'s name: {student1 >= student1}')\n",
    "    print(f'{student1.name}\\'s name is equal to {student2.name}\\'s name: {student1 == student2}')\n",
    "    print(f'{student1.name}\\'s name is equal to {student3.name}\\'s name: {student1 == student3}')"
   ]
  },
  {
   "cell_type": "code",
   "execution_count": 69,
   "metadata": {},
   "outputs": [
    {
     "name": "stdout",
     "output_type": "stream",
     "text": [
      "Name: Ken\n",
      "Scores: 0 0 0 0 0 \n",
      "\n",
      "Name: Laura\n",
      "Scores: 0 0 0 0 0 \n",
      "\n",
      "Name: Ken\n",
      "Scores: 0 0 0 0 0 \n",
      "\n",
      "Ken's name is less than Laura's name: True\n",
      "Laura's name is less than Ken's name: False\n",
      "Ken's name is greater than or equal to Laura's name: False\n",
      "Laura's name is greater than or equal to Ken's name: True\n",
      "Ken's name is greater than or equal to Ken's name: True\n",
      "Ken's name is equal to Laura's name: False\n",
      "Ken's name is equal to Ken's name: True\n"
     ]
    }
   ],
   "source": [
    "if __name__ == \"__main__\":\n",
    "    main()"
   ]
  }
 ],
 "metadata": {
  "kernelspec": {
   "display_name": "Python 3",
   "language": "python",
   "name": "python3"
  },
  "language_info": {
   "codemirror_mode": {
    "name": "ipython",
    "version": 3
   },
   "file_extension": ".py",
   "mimetype": "text/x-python",
   "name": "python",
   "nbconvert_exporter": "python",
   "pygments_lexer": "ipython3",
   "version": "3.7.4"
  }
 },
 "nbformat": 4,
 "nbformat_minor": 2
}
