{
 "cells": [
  {
   "cell_type": "code",
   "execution_count": 2,
   "metadata": {},
   "outputs": [
    {
     "data": {
      "text/plain": [
       "\"\\nFile: ch9_p1_kfischer.py\\nResources to manage a student's name and test scores.\\n\\nEDIT: \\nAuthor: Kelley Fischer\\nDate:   11/16/19\\nAdd code to shuffle and sort a list of students.\\n\""
      ]
     },
     "execution_count": 2,
     "metadata": {},
     "output_type": "execute_result"
    }
   ],
   "source": [
    "\"\"\"\n",
    "File: ch9_p1_kfischer.py\n",
    "Resources to manage a student's name and test scores.\n",
    "\n",
    "EDIT: \n",
    "Author: Kelley Fischer\n",
    "Date:   11/16/19\n",
    "Add code to shuffle and sort a list of students.\n",
    "\"\"\""
   ]
  },
  {
   "cell_type": "code",
   "execution_count": 13,
   "metadata": {},
   "outputs": [],
   "source": [
    "from ch9_p1_kfischer import Student\n",
    "from random import shuffle"
   ]
  },
  {
   "cell_type": "code",
   "execution_count": 14,
   "metadata": {},
   "outputs": [],
   "source": [
    "student1 = Student('Jerry', 5)"
   ]
  },
  {
   "cell_type": "code",
   "execution_count": 15,
   "metadata": {},
   "outputs": [],
   "source": [
    "student2 = Student('Ted', 6)"
   ]
  },
  {
   "cell_type": "code",
   "execution_count": 16,
   "metadata": {},
   "outputs": [],
   "source": [
    "student3 = Student('Kevin', 9)"
   ]
  },
  {
   "cell_type": "code",
   "execution_count": 17,
   "metadata": {},
   "outputs": [],
   "source": [
    "student4 = Student('Jenna', 5)"
   ]
  },
  {
   "cell_type": "code",
   "execution_count": 18,
   "metadata": {},
   "outputs": [],
   "source": [
    "student5 = Student('Emily', 9)"
   ]
  },
  {
   "cell_type": "code",
   "execution_count": 19,
   "metadata": {},
   "outputs": [],
   "source": [
    "msHoneysClass = [student1, student2, student3, student4, student5]"
   ]
  },
  {
   "cell_type": "code",
   "execution_count": 20,
   "metadata": {},
   "outputs": [
    {
     "data": {
      "text/plain": [
       "[<ch9_p1_kfischer.Student at 0x65701f0>,\n",
       " <ch9_p1_kfischer.Student at 0x6570af0>,\n",
       " <ch9_p1_kfischer.Student at 0x65772b0>,\n",
       " <ch9_p1_kfischer.Student at 0x6577570>,\n",
       " <ch9_p1_kfischer.Student at 0x6577870>]"
      ]
     },
     "execution_count": 20,
     "metadata": {},
     "output_type": "execute_result"
    }
   ],
   "source": [
    "msHoneysClass"
   ]
  },
  {
   "cell_type": "code",
   "execution_count": 22,
   "metadata": {},
   "outputs": [],
   "source": [
    "shuffle(msHoneysClass)"
   ]
  },
  {
   "cell_type": "code",
   "execution_count": 23,
   "metadata": {},
   "outputs": [
    {
     "name": "stdout",
     "output_type": "stream",
     "text": [
      "Name: Jerry\n",
      "Scores: 0 0 0 0 0\n",
      "Name: Ted\n",
      "Scores: 0 0 0 0 0 0\n",
      "Name: Jenna\n",
      "Scores: 0 0 0 0 0\n",
      "Name: Emily\n",
      "Scores: 0 0 0 0 0 0 0 0 0\n",
      "Name: Kevin\n",
      "Scores: 0 0 0 0 0 0 0 0 0\n"
     ]
    }
   ],
   "source": [
    "for student in msHoneysClass:\n",
    "    print(student)"
   ]
  },
  {
   "cell_type": "code",
   "execution_count": 24,
   "metadata": {},
   "outputs": [],
   "source": [
    "msHoneysClass.sort()"
   ]
  },
  {
   "cell_type": "code",
   "execution_count": 25,
   "metadata": {},
   "outputs": [
    {
     "name": "stdout",
     "output_type": "stream",
     "text": [
      "Name: Emily\n",
      "Scores: 0 0 0 0 0 0 0 0 0\n",
      "Name: Jenna\n",
      "Scores: 0 0 0 0 0\n",
      "Name: Jerry\n",
      "Scores: 0 0 0 0 0\n",
      "Name: Kevin\n",
      "Scores: 0 0 0 0 0 0 0 0 0\n",
      "Name: Ted\n",
      "Scores: 0 0 0 0 0 0\n"
     ]
    }
   ],
   "source": [
    "for student in msHoneysClass:\n",
    "    print(student)"
   ]
  },
  {
   "cell_type": "code",
   "execution_count": null,
   "metadata": {},
   "outputs": [],
   "source": []
  }
 ],
 "metadata": {
  "kernelspec": {
   "display_name": "Python 3",
   "language": "python",
   "name": "python3"
  },
  "language_info": {
   "codemirror_mode": {
    "name": "ipython",
    "version": 3
   },
   "file_extension": ".py",
   "mimetype": "text/x-python",
   "name": "python",
   "nbconvert_exporter": "python",
   "pygments_lexer": "ipython3",
   "version": "3.7.4"
  }
 },
 "nbformat": 4,
 "nbformat_minor": 2
}
